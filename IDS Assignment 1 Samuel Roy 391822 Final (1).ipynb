{
 "cells": [
  {
   "cell_type": "markdown",
   "metadata": {},
   "source": [
    "# IDS Assignment 1\n",
    "Document your results as well as the way you obtained them in this jupyter notebook. A seperate report (pdf, word etc.) is _not_ required. However, it is necessary that you provide the python code leading to your results as well as textual answers to the assignment questions in this notebook. \n",
    "\n",
    "Do not change the general structure of this notebook, but you can add further markdown or code cells to explain your solutions if necessary. In the end, submit this file in moodle."
   ]
  },
  {
   "cell_type": "markdown",
   "metadata": {},
   "source": [
    "## Get to know the data"
   ]
  },
  {
   "cell_type": "markdown",
   "metadata": {},
   "source": [
    "### Question 1 (Indicating type): \n",
    "1. Identify precise type of each attribute. Note that the right answers are like: “numerical-continuous-ratio”, just Numerical or Categorical is not enough."
   ]
  },
  {
   "cell_type": "markdown",
   "metadata": {},
   "source": [
    "<table>\n",
    "    <tr>\n",
    "        <th>Attribute</th>\n",
    "        <th>Attribute Type</th>\n",
    "    </tr>\n",
    "    <tr>\n",
    "        <td>Age</td>\n",
    "        <td>Numerical-Discrete</td>\n",
    "    </tr>\n",
    "    <tr>\n",
    "        <td>Workclass</td>\n",
    "        <td>Categorical-Nominal</td>\n",
    "    </tr>\n",
    "    <tr>\n",
    "        <td>Education</td>\n",
    "        <td>Categorical-Ordinal</td>\n",
    "   </tr>\n",
    "    <tr>\n",
    "        <td>Education Num</td>\n",
    "        <td>Numerical-Discrete</td>\n",
    "    </tr>\n",
    "    <tr>\n",
    "        <td>Marital Status</td>\n",
    "        <td>Categorical-Nominal</td>\n",
    "    </tr>\n",
    "    <tr>\n",
    "        <td>Occupation</td>\n",
    "        <td>Categorical-Nominal</td>\n",
    "    </tr>\n",
    "    <tr>\n",
    "        <td>Relationship</td>\n",
    "        <td>Categorical-Nominal</td>\n",
    "    </tr>\n",
    "    <tr>\n",
    "        <td>Race</td>\n",
    "        <td>Categorical-Nominal</td>\n",
    "    </tr>\n",
    "    <tr>\n",
    "        <td>Sex</td>\n",
    "        <td>Categorical-Nominal</td>\n",
    "    </tr>\n",
    "    <tr>\n",
    "        <td>Hours per Week</td>\n",
    "        <td>Numerical-Continuous-Ratio data</td>\n",
    "    </tr>\n",
    "    <tr>\n",
    "        <td>Native Country</td>\n",
    "        <td>Categorical-Nominal</td>\n",
    "    </tr>\n",
    "    \n",
    "    \n",
    "</table>\n"
   ]
  },
  {
   "cell_type": "markdown",
   "metadata": {},
   "source": [
    "### Question 2 (Removing outliers):\n",
    "2. (a) Explore into \"age\" and \"hours-per-week\" and identify outliers (Boxplot returns whiskers). After identifying outliers, remove them (do it just once on the data set). Now you should have two data sets (cleaned and original)."
   ]
  },
  {
   "cell_type": "code",
   "execution_count": 1,
   "metadata": {},
   "outputs": [
    {
     "data": {
      "image/png": "[encoded data removed]",
      "text/plain": [
       "<matplotlib.figure.Figure at 0x1ca4e3d1320>"
      ]
     },
     "metadata": {
      "needs_background": "light"
     },
     "output_type": "display_data"
    }
   ],
   "source": [
    "# My code\n",
    "import pandas as pd\n",
    "import seaborn as sns \n",
    "import numpy as np\n",
    "import matplotlib.pyplot as plt\n",
    "import numpy as np\n",
    "%matplotlib inline\n",
    "\n",
    "#function for removing Outliers\n",
    "def remove_outlier(df_in, col_name):\n",
    "    q1 = df_in[col_name].quantile(0.25)\n",
    "    q3 = df_in[col_name].quantile(0.75)\n",
    "    iqr = q3-q1 #Interquartile range\n",
    "    fence_low  = q1-1.5*iqr\n",
    "    fence_high = q3+1.5*iqr\n",
    "    df_out = df_in.loc[(df_in[col_name] > fence_low) & (df_in[col_name] < fence_high)]\n",
    "    return df_out\n",
    "\n",
    "#function for loading the CSV file\n",
    "data1 = pd.read_csv('C:/Users/Samuel Roy/Introduction to Data Science Notebooks/Assignment/adult.data-3.csv')\n",
    "\n",
    "#Creating Data Frame\n",
    "df = pd.DataFrame(data1,columns=['age','workclass','education','education-num','marital-status','occupation','relationship','race','sex','hours-per-week','native-country','sex','label'])\n",
    "\n",
    "#Plotting boxplot\n",
    "red_square = dict(markerfacecolor='r', marker='s')\n",
    "fig5, ax5 = plt.subplots()\n",
    "ax5.set_title('BoxPlot of Age and Hours-per-week')\n",
    "df.boxplot(column=['age','hours-per-week'],flierprops=red_square) \n",
    "\n",
    "\n",
    "df1= pd.DataFrame(data1,columns=['age'])\n",
    "df2= pd.DataFrame(data1,columns=['hours-per-week'])\n",
    "\n",
    "data_filtered_age = remove_outlier(df1,'age')\n",
    "#print(data_filtered_age)\n",
    "\n",
    "data_filtered_hoursperweek = remove_outlier(df2,'hours-per-week')\n",
    "#print(data_filtered_hoursperweek)"
   ]
  },
  {
   "cell_type": "markdown",
   "metadata": {},
   "source": [
    "2. (b) Draw Boxplot of the cleaned data set for \"hours-per-week\". Is there still any outlier? If so, explain why?"
   ]
  },
  {
   "cell_type": "code",
   "execution_count": 2,
   "metadata": {},
   "outputs": [
    {
     "data": {
      "image/png": "[encoded data removed]",
      "text/plain": [
       "<matplotlib.figure.Figure at 0x1ca4e307748>"
      ]
     },
     "metadata": {
      "needs_background": "light"
     },
     "output_type": "display_data"
    }
   ],
   "source": [
    "#Plotting boxplot for Hours-per-week\n",
    "fig5, ax5 = plt.subplots()\n",
    "green_diamond = dict(markerfacecolor='g', marker='D')\n",
    "ax5.set_title('After Removing Outliers Box plot of Hours-per-week')\n",
    "data_filtered_hoursperweek.boxplot(flierprops=green_diamond)\n",
    "plt.show()\n"
   ]
  },
  {
   "cell_type": "markdown",
   "metadata": {},
   "source": [
    "Explanation:\n",
    "- Yes, outliers after cleaning indicate that there still exists outliers for the dataset that is obtained after cleaning. The Quartile 1 and Quartile 3 and interquartile range is recalculated, so new outliers appear at smaller range. Repeated cleaning may be required to remove them."
   ]
  },
  {
   "cell_type": "markdown",
   "metadata": {},
   "source": [
    "### Question 3 (Basic visualization):\n",
    "3. (a) Visualize mean and median of \"age\", and \"hours-per-week\" per \"sex\" by separate plots for the cleaned and the original data sets (there should be 8 plots, 4 plots for the original data set and 4 plots for the cleaned data set). "
   ]
  },
  {
   "cell_type": "code",
   "execution_count": 3,
   "metadata": {},
   "outputs": [
    {
     "data": {
      "image/png": "[encoded data removed]",
      "text/plain": [
       "<matplotlib.figure.Figure at 0x1ca4e37c4e0>"
      ]
     },
     "metadata": {
      "needs_background": "light"
     },
     "output_type": "display_data"
    },
    {
     "name": "stderr",
     "output_type": "stream",
     "text": [
      "C:\\Users\\Samuel Roy\\AppData\\Roaming\\Python\\Python36\\site-packages\\ipykernel_launcher.py:24: UserWarning: Boolean Series key will be reindexed to match DataFrame index.\n",
      "C:\\Users\\Samuel Roy\\AppData\\Roaming\\Python\\Python36\\site-packages\\ipykernel_launcher.py:32: UserWarning: Boolean Series key will be reindexed to match DataFrame index.\n"
     ]
    },
    {
     "data": {
      "image/png": "[encoded data removed]",
      "text/plain": [
       "<matplotlib.figure.Figure at 0x1ca4e5f4828>"
      ]
     },
     "metadata": {
      "needs_background": "light"
     },
     "output_type": "display_data"
    },
    {
     "data": {
      "image/png": "[encoded data removed]",
      "text/plain": [
       "<matplotlib.figure.Figure at 0x1ca508c2f60>"
      ]
     },
     "metadata": {
      "needs_background": "light"
     },
     "output_type": "display_data"
    },
    {
     "name": "stderr",
     "output_type": "stream",
     "text": [
      "C:\\Users\\Samuel Roy\\AppData\\Roaming\\Python\\Python36\\site-packages\\ipykernel_launcher.py:68: UserWarning: Boolean Series key will be reindexed to match DataFrame index.\n",
      "C:\\Users\\Samuel Roy\\AppData\\Roaming\\Python\\Python36\\site-packages\\ipykernel_launcher.py:76: UserWarning: Boolean Series key will be reindexed to match DataFrame index.\n"
     ]
    },
    {
     "data": {
      "image/png": "[encoded data removed]",
      "text/plain": [
       "<matplotlib.figure.Figure at 0x1ca509c8f28>"
      ]
     },
     "metadata": {
      "needs_background": "light"
     },
     "output_type": "display_data"
    }
   ],
   "source": [
    "# Age per Female plot (Original data set)\n",
    "df = pd.DataFrame(data1,columns=['age','hours-per-week','sex'])\n",
    "fig, axes = plt.subplots(ncols=2, figsize=(12, 5), sharey=True)\n",
    "femaleage=df[df['sex']=='Female']['age']\n",
    "axes[0].hist(femaleage, bins=20, color='c', edgecolor='k', alpha=0.65)\n",
    "axes[0].axvline(femaleage.mean(), color='red', linestyle='dashed', linewidth=1, label= (\"%s %.2f\" % ('mean',femaleage.mean())))\n",
    "axes[0].axvline(femaleage.median(), color='blue', linestyle='dashed', linewidth=1, label= (\"%s %.2f\" % ('median',femaleage.median())))\n",
    "axes[0].legend()\n",
    "axes[0].set_title('Age per Number of Female')\n",
    "\n",
    "# Age per Male plot (Original data set)\n",
    "maleage=df[df['sex']=='Male']['age']\n",
    "axes[1].hist(maleage, bins=20, color='c', edgecolor='k', alpha=0.65)\n",
    "axes[1].axvline(maleage.mean(), color='red', linestyle='dashed', linewidth=1 , label= (\"%s %.2f\" % ('mean',maleage.mean())))\n",
    "axes[1].axvline(maleage.median(), color='blue', linestyle='dashed', linewidth=1, label= (\"%s %.2f\" % ('median',maleage.median())))\n",
    "axes[1].legend()\n",
    "axes[1].set_title('Age per Number of Male')\n",
    "fig.suptitle('Original Data Set', fontsize=16)\n",
    "\n",
    "plt.show()\n",
    "fig, axes = plt.subplots(ncols=2, figsize=(12, 5), sharey=True)\n",
    "\n",
    "# Age per Female plot (Cleaned data set)\n",
    "femaleage=data_filtered_age[df['sex']=='Female']['age']\n",
    "axes[0].hist(femaleage, bins=20, color='c', edgecolor='k', alpha=0.65)\n",
    "axes[0].axvline(femaleage.mean(), color='red', linestyle='dashed', linewidth=1 , label= (\"%s %.2f\" % ('mean',femaleage.mean())))\n",
    "axes[0].axvline(femaleage.median(), color='blue', linestyle='dashed', linewidth=1, label= (\"%s %.2f\" % ('median',femaleage.median())))\n",
    "axes[0].legend()\n",
    "axes[0].set_title('Age per Number of Female')\n",
    "\n",
    "# Age per Male plot (Cleaned data set)\n",
    "maleage=data_filtered_age[df['sex']=='Male']['age']\n",
    "axes[1].hist(maleage, bins=20, color='c', edgecolor='k', alpha=0.65)\n",
    "axes[1].axvline(maleage.mean(), color='red', linestyle='dashed', linewidth=1 , label= (\"%s %.2f\" % ('mean',maleage.mean())))\n",
    "axes[1].axvline(maleage.median(), color='blue', linestyle='dashed', linewidth=1, label= (\"%s %.2f\" % ('median',maleage.median())))\n",
    "axes[1].legend()\n",
    "axes[1].set_title('Age per Number of Male')\n",
    "fig.suptitle('Cleaned Data Set', fontsize=16)\n",
    "\n",
    "plt.show()\n",
    "\n",
    "\n",
    "# Hours-per-week per Female plot (Original data set)\n",
    "fig, axes = plt.subplots(ncols=2, figsize=(12, 5), sharey=True)\n",
    "\n",
    "femalehours=df[df['sex']=='Female']['hours-per-week']\n",
    "axes[0].hist(femalehours, bins=20, color='c', edgecolor='k', alpha=0.65)\n",
    "axes[0].axvline(femalehours.mean(), color='red', linestyle='dashed', linewidth=1, label= (\"%s %.2f\" % ('mean',femalehours.mean())))\n",
    "axes[0].axvline(femalehours.median(), color='blue', linestyle='dashed', linewidth=1, label= (\"%s %.2f\" % ('median',femalehours.median())))\n",
    "axes[0].legend()\n",
    "axes[0].set_title('Hours-per-week per Number of Female')\n",
    "\n",
    "# Hours-per-week per Male plot (Original data set)\n",
    "malehours=df[df['sex']=='Male']['hours-per-week']\n",
    "axes[1].hist(malehours, bins=20, color='c', edgecolor='k', alpha=0.65)\n",
    "axes[1].axvline(malehours.mean(), color='red', linestyle='dashed', linewidth=1, label= (\"%s %.2f\" % ('mean',malehours.mean())))\n",
    "axes[1].axvline(malehours.median(), color='blue', linestyle='dashed', linewidth=1, label= (\"%s %.2f\" % ('median',malehours.median())))\n",
    "axes[1].legend()\n",
    "axes[1].set_title('Hours-per-week per Number of Male')\n",
    "fig.suptitle('Original Data Set', fontsize=16)\n",
    "\n",
    "plt.show()\n",
    "\n",
    "\n",
    "# Hours-per-week per Female plot (Cleaned data set)\n",
    "fig, axes = plt.subplots(ncols=2, figsize=(12, 5), sharey=True)\n",
    "\n",
    "female_hourperweek=data_filtered_hoursperweek[df['sex']=='Female']['hours-per-week']\n",
    "axes[0].hist(female_hourperweek, bins=20, color='c', edgecolor='k', alpha=0.65)\n",
    "axes[0].axvline(female_hourperweek.mean(), color='red', linestyle='dashed', linewidth=1, label= (\"%s %.2f\" % ('mean',female_hourperweek.mean())))\n",
    "axes[0].axvline(female_hourperweek.median(), color='blue', linestyle='dashed', linewidth=1, label= (\"%s %.2f\" % ('median',female_hourperweek.median())))\n",
    "axes[0].legend()\n",
    "axes[0].set_title('Hours-per-week per Number of Female')\n",
    "\n",
    "# Hours-per-week per Male plot (Cleaned data set)\n",
    "male_hourperweek=data_filtered_hoursperweek[df['sex']=='Male']['hours-per-week']\n",
    "axes[1].hist(male_hourperweek, bins=20, color='c', edgecolor='k', alpha=0.65)\n",
    "axes[1].axvline(male_hourperweek.mean(), color='red', linestyle='dashed', linewidth=1, label= (\"%s %.2f\" % ('mean',male_hourperweek.mean())))\n",
    "axes[1].axvline(male_hourperweek.median(), color='blue', linestyle='dashed', linewidth=1, label= (\"%s %.2f\" % ('median',male_hourperweek.median())))\n",
    "axes[1].legend()\n",
    "axes[1].set_title('Hours-per-week per Number of Male')\n",
    "fig.suptitle('Cleaned Data Set', fontsize=16)\n",
    "\n",
    "plt.show()\n"
   ]
  },
  {
   "cell_type": "markdown",
   "metadata": {},
   "source": [
    "3. (b) Explain how mean and median of \"age\" per \"sex\" change when you remove the outliers."
   ]
  },
  {
   "cell_type": "markdown",
   "metadata": {},
   "source": [
    "Explanation: \n",
    "- The removal of outliers has no effect on the median as the median is calculated from the middle value. Remove an outlier,the median will move to the new middle value. Assuming most of the other middle values are relatively similar, then changing from one middle data point to the nearest one doesn’t make much of a difference.\n",
    "- Where as mean is more affected by outliers because it incorporates the actual numerical value of the outlier. In case of Age per sex as we are removing the outlier values which are larger than mean, so mean is dropping in value. "
   ]
  },
  {
   "cell_type": "markdown",
   "metadata": {},
   "source": [
    "### Question 4 (Distribution):\n",
    "4. (a) Explore into distribution of \"age\" in the original data set. Does it have any well-known distribution (normal, uniform, skewed, ...)? If so, what are the main statistical features (mean, median, and mode) of this specific type of distribution."
   ]
  },
  {
   "cell_type": "code",
   "execution_count": 4,
   "metadata": {},
   "outputs": [
    {
     "name": "stderr",
     "output_type": "stream",
     "text": [
      "C:\\Users\\Samuel Roy\\Anaconda3\\lib\\site-packages\\scipy\\stats\\stats.py:1713: FutureWarning: Using a non-tuple sequence for multidimensional indexing is deprecated; use `arr[tuple(seq)]` instead of `arr[seq]`. In the future this will be interpreted as an array index, `arr[np.array(seq)]`, which will result either in an error or a different result.\n",
      "  return np.add.reduce(sorted[indexer] * weights, axis=axis) / sumval\n"
     ]
    },
    {
     "data": {
      "image/png": "[encoded data removed]",
      "text/plain": [
       "<matplotlib.figure.Figure at 0x1ca507d56d8>"
      ]
     },
     "metadata": {
      "needs_background": "light"
     },
     "output_type": "display_data"
    }
   ],
   "source": [
    "mean=df['age'].mean()\n",
    "median=df['age'].median()\n",
    "mode=df['age'].mode().get_values()[0]\n",
    "\n",
    "f, (ax_hist) = plt.subplots(1, sharex=True)\n",
    "\n",
    "\n",
    "\n",
    "sns.distplot(df[\"age\"], ax=ax_hist)\n",
    "ax_hist.axvline(mean, color='r', linestyle='--')\n",
    "ax_hist.axvline(median, color='g', linestyle='-')\n",
    "ax_hist.axvline(mode, color='b', linestyle='-')\n",
    "\n",
    "plt.legend({(\"%s %.2f\" % ('Mean',mean)):mean,(\"%s %.2f\" % ('Median',median)):median,(\"%s %.2f\" % ('Mode',mode)):mode})\n",
    "\n",
    "ax_hist.set(xlabel='Age')\n",
    "plt.show()"
   ]
  },
  {
   "cell_type": "markdown",
   "metadata": {},
   "source": [
    "Explanation: \n",
    "- It has a right skewed distribution.(Also known as positive skew) \n",
    "- Its Mode will be the highest peak.\n",
    "- Its Median is to the right of Mode \n",
    "- Mean is to the right of Median.(This implies Mean is the greatest.\n",
    "- Median is closer to the first quartile than to third quartile as can be seen in the boxplot in question 2.)\n"
   ]
  },
  {
   "cell_type": "markdown",
   "metadata": {},
   "source": [
    "4. (b) Explore into distribution of \"age\" and \"hours-per-week\" together. Explain how the data is distributed with respect to these two attributes in the original data sets (using Jointplot)?\n"
   ]
  },
  {
   "cell_type": "code",
   "execution_count": 5,
   "metadata": {},
   "outputs": [
    {
     "name": "stderr",
     "output_type": "stream",
     "text": [
      "C:\\Users\\Samuel Roy\\Anaconda3\\lib\\site-packages\\scipy\\stats\\stats.py:1713: FutureWarning: Using a non-tuple sequence for multidimensional indexing is deprecated; use `arr[tuple(seq)]` instead of `arr[seq]`. In the future this will be interpreted as an array index, `arr[np.array(seq)]`, which will result either in an error or a different result.\n",
      "  return np.add.reduce(sorted[indexer] * weights, axis=axis) / sumval\n"
     ]
    },
    {
     "data": {
      "image/png": "[encoded data removed]",
      "text/plain": [
       "<matplotlib.figure.Figure at 0x1ca507f66a0>"
      ]
     },
     "metadata": {
      "needs_background": "light"
     },
     "output_type": "display_data"
    }
   ],
   "source": [
    "#convert Numpy to Dataframe with specific names for columns \n",
    "df3 = pd.DataFrame(data1, columns=[\"age\", \"hours-per-week\"])\n",
    "\n",
    "sns.jointplot(x=\"age\", y=\"hours-per-week\", data=df, kind=\"hex\");  \n"
   ]
  },
  {
   "cell_type": "markdown",
   "metadata": {},
   "source": [
    "Explanation:\n",
    "- The distribution of age is bellcurved but not symmetric. So it is right skewed, since a sharp decrease is seen after the age of 50. The peak is seen between 30 and 40.\n",
    "- The distribution of hours-per-week is a Mutimodal but clearly seperated.  Employees across the age group 20 to 60, work for 40 hours per week"
   ]
  },
  {
   "cell_type": "markdown",
   "metadata": {},
   "source": [
    "## Building models to perform predictions"
   ]
  },
  {
   "cell_type": "markdown",
   "metadata": {},
   "source": [
    "### Question 5 (Decision Tree):\n",
    "5. (a) Consider all the categorical attributes except label as descriptive features and label (income) as target feature. Make two decision trees (one based on Entropy and another based on Gini)."
   ]
  },
  {
   "cell_type": "code",
   "execution_count": 6,
   "metadata": {},
   "outputs": [],
   "source": [
    "# Importing and initializing the categorical dataset\n",
    "\n",
    "from DecisionTree import DecisionTree\n",
    "import pandas as pd\n",
    "\n",
    "fields = ['workclass','education','marital-status', 'occupation','relationship','race','sex','native-country','label']\n",
    "#Reading CSV file as data set by Pandas\n",
    "data = pd.read_csv('C:/Users/Samuel Roy/Introduction to Data Science Notebooks/Assignment/adult.data-3.csv',skipinitialspace=True,usecols=fields)\n",
    "columns = data.columns\n",
    "\n",
    "#All columns except the last one are descriptive by default\n",
    "descriptive_features = columns[:-1]\n",
    "#The last column is considered as label\n",
    "label = columns[-1]\n",
    "\n",
    "#Converting all the columns to string \n",
    "for column in columns:\n",
    "    data[column]= data[column].astype(str)\n",
    "   \n",
    "data_descriptive = data[descriptive_features].values\n",
    "data_label = data[label].values\n",
    "\n"
   ]
  },
  {
   "cell_type": "markdown",
   "metadata": {},
   "source": [
    "###### Entrophy Based Decision Tree:"
   ]
  },
  {
   "cell_type": "code",
   "execution_count": 7,
   "metadata": {},
   "outputs": [
    {
     "name": "stdout",
     "output_type": "stream",
     "text": [
      "System entropy:  0.9894104774720454\n",
      "System gini:  None\n"
     ]
    }
   ],
   "source": [
    "\n",
    "#Calling DecisionTree constructor (the last parameter is criterion which can also be \"gini\")\n",
    "decisionTree = DecisionTree(data_descriptive.tolist(), descriptive_features.tolist(), data_label.tolist(), \"entropy\")\n",
    "\n",
    "#Here you can pass pruning features (gain_threshold and minimum_samples)\n",
    "decisionTree.id3(0,0)\n",
    "\n",
    "#Visualizing decision tree by Graphviz\n",
    "decisionTree.print_visualTree()\n",
    "\n",
    "print(\"System entropy: \", format(decisionTree.entropy))\n",
    "print(\"System gini: \", format(decisionTree.gini))"
   ]
  },
  {
   "cell_type": "markdown",
   "metadata": {},
   "source": [
    "###### Gini Based Decision Tree:"
   ]
  },
  {
   "cell_type": "code",
   "execution_count": 8,
   "metadata": {},
   "outputs": [
    {
     "name": "stdout",
     "output_type": "stream",
     "text": [
      "System entropy:  None\n",
      "System gini:  0.49267787898095206\n"
     ]
    }
   ],
   "source": [
    "\n",
    "#Calling DecisionTree constructor (the last parameter is criterion which can also be \"gini\")\n",
    "decisionTree = DecisionTree(data_descriptive.tolist(), descriptive_features.tolist(), data_label.tolist(), \"gini\")\n",
    "\n",
    "#Here you can pass pruning features (gain_threshold and minimum_samples)\n",
    "decisionTree.id3(0,0)\n",
    "\n",
    "#Visualizing decision tree by Graphviz\n",
    "decisionTree.print_visualTree()\n",
    "\n",
    "\n",
    "print(\"System entropy: \", format(decisionTree.entropy))\n",
    "print(\"System gini: \", format(decisionTree.gini))"
   ]
  },
  {
   "cell_type": "markdown",
   "metadata": {},
   "source": [
    "5. (b) What are the best attributes (based on Gini and Entropy) for splitting the trees in the third round of ID3?   "
   ]
  },
  {
   "cell_type": "markdown",
   "metadata": {},
   "source": [
    "Explanation:\n",
    "- Based on Gini and Entropy the best attributes for splitting the trees in the third round of ID3 is <b>Occupation</b>."
   ]
  },
  {
   "cell_type": "markdown",
   "metadata": {},
   "source": [
    "5. (c) Prune the tree which is made based on Entropy by 7000 as minimum number of samples. Identify which value of the first node/attribute is chosen to be split in the second round of ID3 and explain why?"
   ]
  },
  {
   "cell_type": "code",
   "execution_count": 9,
   "metadata": {},
   "outputs": [
    {
     "name": "stdout",
     "output_type": "stream",
     "text": [
      "System entropy:  0.9894104774720454\n",
      "System gini:  None\n"
     ]
    }
   ],
   "source": [
    "#Calling DecisionTree constructor (the last parameter is criterion which can also be \"gini\")\n",
    "decisionTree = DecisionTree(data_descriptive.tolist(), descriptive_features.tolist(), data_label.tolist(), \"entropy\")\n",
    "\n",
    "#Here you can pass pruning features (gain_threshold and minimum_samples)\n",
    "decisionTree.id3(0,7000)\n",
    "\n",
    "#Visualizing decision tree by Graphviz\n",
    "decisionTree.print_visualTree()\n",
    "\n",
    "print(\"System entropy: \", format(decisionTree.entropy))\n",
    "print(\"System gini: \", format(decisionTree.gini))"
   ]
  },
  {
   "cell_type": "markdown",
   "metadata": {},
   "source": [
    "Explanation:\n",
    "\n",
    "- The value <b>Husband</b> of the first node is chosen to be split in the second round of ID3 algorithm. "
   ]
  },
  {
   "cell_type": "markdown",
   "metadata": {},
   "source": [
    "### Question 6 (Regression):\n",
    "\n",
    "6. (a) Create two sets of independent variables (1) and (2)"
   ]
  },
  {
   "cell_type": "code",
   "execution_count": 10,
   "metadata": {},
   "outputs": [],
   "source": [
    "import pandas as pd\n",
    "\n",
    "fields3 = ['workclass','education-num','marital-status', 'occupation','relationship','race','sex','hours-per-week','native-country']\n",
    "field1=['age','marital-status','sex']\n",
    "field2=['workclass','education-num','hours-per-week']\n",
    "\n",
    "#Reading CSV file as data set by Pandas\n",
    "data_1 = pd.read_csv(r'C:/Users/Samuel Roy/Introduction to Data Science Notebooks/Assignment/adult.data-3.csv',skipinitialspace=True,usecols=field1)\n",
    "df1 = pd.DataFrame(data_1)\n",
    "columns_1 = data_1.columns\n",
    "\n",
    "data_2 = pd.read_csv(r'C:/Users/Samuel Roy/Introduction to Data Science Notebooks/Assignment/adult.data-3.csv',skipinitialspace=True,usecols=field2)\n",
    "columns_2 = data_2.columns\n",
    "df2 = pd.DataFrame(data_2)\n",
    "\n",
    "data_3 = pd.read_csv(r'C:/Users/Samuel Roy/Introduction to Data Science Notebooks/Assignment/adult.data-3.csv',skipinitialspace=True,usecols=fields3)\n",
    "columns_3 = data_3.columns\n",
    "df3 = pd.DataFrame(data_3)\n",
    "\n",
    "target_feature_field=['label']\n",
    "target_feature = pd.read_csv(r'C:/Users/Samuel Roy/Introduction to Data Science Notebooks/Assignment/adult.data-3.csv',skipinitialspace=True,usecols=target_feature_field)\n",
    "target_feature_columns = target_feature.columns\n",
    "\n"
   ]
  },
  {
   "cell_type": "markdown",
   "metadata": {},
   "source": [
    "6. (b) Which attributes are suitable as an input for the logistic regression and which need to be modified first? Why? "
   ]
  },
  {
   "cell_type": "markdown",
   "metadata": {},
   "source": [
    "Explanation:\n",
    "- The suitable attribute as input for the logistic regression are all the Numerical attributes: \n",
    "<b>'age','education-num', 'hours-per-week'</b>\n",
    "- All the Non-numerical attributes need to be modified first(One hot encoding):\n",
    "<b>'workclass','marital-status', 'occupation', 'relationship', 'race', 'sex', 'native-country'</b>\n",
    "- The logistic regression takes in only the numerical values"
   ]
  },
  {
   "cell_type": "code",
   "execution_count": 11,
   "metadata": {},
   "outputs": [],
   "source": [
    "# One hot table transformation\n",
    "from sklearn.preprocessing import LabelEncoder, OneHotEncoder\n",
    "\n",
    "def makeOneHotTable(df_in):\n",
    "            le = LabelEncoder()\n",
    "            # encode labels with value between 0 and n_classes-1.\n",
    "            train2 = df_in.apply(le.fit_transform)\n",
    "            train2.head()\n",
    "            encoder = OneHotEncoder(categories='auto')\n",
    "            encoder.fit(train2)\n",
    "            onehotlabel = encoder.transform(train2).toarray()\n",
    "            return onehotlabel\n",
    "        \n",
    "    \n",
    "\n",
    "#onehotlabels_DataSet1\n",
    "onehotlabels_DataSet1 = df1[['age','marital-status','sex']]\n",
    "onehotlabels_DataSet1 = makeOneHotTable(onehotlabels_DataSet1)\n",
    "\n",
    "#onehotlabels_DataSet2\n",
    "onehotlabels_DataSet2 = df2[['workclass','education-num','hours-per-week']]\n",
    "onehotlabels_DataSet2 = makeOneHotTable(onehotlabels_DataSet2)\n",
    "\n",
    "\n",
    "#onehotlabels_DataSet3\n",
    "onehotlabels_DataSet3 = df3[columns_3]\n",
    "onehotlabels_DataSet3 = makeOneHotTable(onehotlabels_DataSet3)\n",
    "\n"
   ]
  },
  {
   "cell_type": "markdown",
   "metadata": {},
   "source": [
    "6. (c) Train three logistic regression classifiers based on the two created data sets as well as the initial data set:"
   ]
  },
  {
   "cell_type": "markdown",
   "metadata": {},
   "source": [
    " # Logistic regression classifiers on Data Set 1"
   ]
  },
  {
   "cell_type": "code",
   "execution_count": 12,
   "metadata": {},
   "outputs": [
    {
     "name": "stdout",
     "output_type": "stream",
     "text": [
      "              precision    recall  f1-score   support\n",
      "\n",
      "       <=50K       0.83      0.71      0.77     10000\n",
      "        >50K       0.69      0.81      0.75      7841\n",
      "\n",
      "   micro avg       0.76      0.76      0.76     17841\n",
      "   macro avg       0.76      0.76      0.76     17841\n",
      "weighted avg       0.77      0.76      0.76     17841\n",
      "\n",
      "Data Set 1 accuracy= 0.758309511798666\n"
     ]
    }
   ],
   "source": [
    "import matplotlib.pyplot as plt\n",
    "import sklearn.metrics as metric\n",
    "from sklearn.metrics import classification_report\n",
    "from sklearn.linear_model import LogisticRegression\n",
    "\n",
    "X1 = onehotlabels_DataSet1\n",
    "y =  target_feature.iloc[:,-1]\n",
    "\n",
    "classifier1 = LogisticRegression( solver = 'liblinear', multi_class = 'ovr')\n",
    "\n",
    "classifier1.fit(X1, y.ravel())\n",
    "y_pred1 = classifier1.predict(X1)\n",
    "\n",
    "\n",
    "print(classification_report(y,y_pred1))\n",
    "\n",
    "accuracy_1=metric.accuracy_score(np.array(y).flatten(), np.array(y_pred1).flatten(), normalize=True)\n",
    "print('Data Set 1 accuracy=',accuracy_1) "
   ]
  },
  {
   "cell_type": "markdown",
   "metadata": {},
   "source": [
    "# Logistic regression classifiers on Data Set 2"
   ]
  },
  {
   "cell_type": "code",
   "execution_count": 13,
   "metadata": {},
   "outputs": [
    {
     "name": "stdout",
     "output_type": "stream",
     "text": [
      "              precision    recall  f1-score   support\n",
      "\n",
      "       <=50K       0.72      0.79      0.75     10000\n",
      "        >50K       0.70      0.60      0.65      7841\n",
      "\n",
      "   micro avg       0.71      0.71      0.71     17841\n",
      "   macro avg       0.71      0.70      0.70     17841\n",
      "weighted avg       0.71      0.71      0.71     17841\n",
      "\n",
      "Data Set 2 accuracy= 0.7098256824169049\n"
     ]
    }
   ],
   "source": [
    "X2 = onehotlabels_DataSet2\n",
    "\n",
    "classifier2 = LogisticRegression( solver = 'liblinear', multi_class = 'ovr')\n",
    "\n",
    "classifier2.fit(X2, y.ravel())\n",
    "y_pred2 = classifier2.predict(X2)\n",
    "\n",
    "print(classification_report(y,y_pred2))\n",
    "\n",
    "accuracy_2 = metric.accuracy_score(np.array(y).flatten(), np.array(y_pred2).flatten(), normalize=True)\n",
    "print('Data Set 2 accuracy=',accuracy_2) "
   ]
  },
  {
   "cell_type": "markdown",
   "metadata": {},
   "source": [
    "# Logistic regression classifiers on all data set"
   ]
  },
  {
   "cell_type": "code",
   "execution_count": 14,
   "metadata": {},
   "outputs": [
    {
     "name": "stdout",
     "output_type": "stream",
     "text": [
      "              precision    recall  f1-score   support\n",
      "\n",
      "       <=50K       0.84      0.80      0.82     10000\n",
      "        >50K       0.76      0.81      0.78      7841\n",
      "\n",
      "   micro avg       0.80      0.80      0.80     17841\n",
      "   macro avg       0.80      0.80      0.80     17841\n",
      "weighted avg       0.81      0.80      0.81     17841\n",
      "\n",
      "Data Set 3 accuracy= 0.8046073650580124\n"
     ]
    }
   ],
   "source": [
    "X3 = onehotlabels_DataSet3\n",
    "\n",
    "classifier3 = LogisticRegression( solver = 'liblinear', multi_class = 'ovr')\n",
    " \n",
    "classifier3.fit(X3, y.ravel())\n",
    "y_pred3 = classifier3.predict(X3)\n",
    "\n",
    "print(classification_report(y,y_pred3))\n",
    "\n",
    "accuracy_3 = metric.accuracy_score(np.array(y).flatten(), np.array(y_pred3).flatten(), normalize=True)\n",
    "print('Data Set 3 accuracy=',accuracy_3) \n"
   ]
  },
  {
   "cell_type": "markdown",
   "metadata": {},
   "source": [
    "6. (d) Interpret the three resulting models and compare them. Which model do you recommend and why?"
   ]
  },
  {
   "cell_type": "markdown",
   "metadata": {},
   "source": [
    "Explanation: \n",
    "- In the resulting model, Model 3 with all Dataset  is better. \n",
    "- F1-score of Model 3 with all Dataset is highest with almost 0.80 for all criteria.\n",
    "-  F1 score is the measure of test's accuracy which takes into account both recall and precision. Taking F1-score as the metric for comparision.\n",
    "- Accuracy of Model 3 is the highest."
   ]
  },
  {
   "cell_type": "markdown",
   "metadata": {},
   "source": [
    "### Question 7 (Neural Networks)"
   ]
  },
  {
   "cell_type": "markdown",
   "metadata": {},
   "source": [
    "7. (a) What are the inputs of your network?"
   ]
  },
  {
   "cell_type": "markdown",
   "metadata": {},
   "source": [
    "Explanation: \n",
    "- All attributes except label and education(as education-num is already considered) can be used as the input\n",
    "- Numerical and categorical values can be used in input of Neural Network.\n",
    "- Categorical values should be converted using one hot encoding."
   ]
  },
  {
   "cell_type": "markdown",
   "metadata": {},
   "source": [
    "7. (b) What are the possible number of input pattern for your network (just including categorical attributes)?"
   ]
  },
  {
   "cell_type": "markdown",
   "metadata": {},
   "source": [
    "Explanation:\n",
    "- There are 10 possible inputs. Considering that inputs have binary pattern there should be 2^n input patterns, where n is the the number of inputs.  But here there are Categorical values.\n",
    "-  The dataset returned from one-hot-encoding has 193 columns which implies it has nearly 2^193 inputs (from OneHotEncoder of scikit)"
   ]
  },
  {
   "cell_type": "markdown",
   "metadata": {},
   "source": [
    "7. (c.i) First, with default parameters and return the parameters."
   ]
  },
  {
   "cell_type": "code",
   "execution_count": 15,
   "metadata": {},
   "outputs": [
    {
     "name": "stderr",
     "output_type": "stream",
     "text": [
      "C:\\Users\\Samuel Roy\\Anaconda3\\lib\\site-packages\\sklearn\\neural_network\\multilayer_perceptron.py:562: ConvergenceWarning: Stochastic Optimizer: Maximum iterations (200) reached and the optimization hasn't converged yet.\n",
      "  % self.max_iter, ConvergenceWarning)\n"
     ]
    },
    {
     "name": "stdout",
     "output_type": "stream",
     "text": [
      "MLPClassifier(activation='relu', alpha=0.0001, batch_size='auto', beta_1=0.9,\n",
      "       beta_2=0.999, early_stopping=False, epsilon=1e-08,\n",
      "       hidden_layer_sizes=(100,), learning_rate='constant',\n",
      "       learning_rate_init=0.001, max_iter=200, momentum=0.9,\n",
      "       n_iter_no_change=10, nesterovs_momentum=True, power_t=0.5,\n",
      "       random_state=None, shuffle=True, solver='adam', tol=0.0001,\n",
      "       validation_fraction=0.1, verbose=False, warm_start=False)\n",
      "              precision    recall  f1-score   support\n",
      "\n",
      "       <=50K       0.92      0.86      0.89     10000\n",
      "        >50K       0.83      0.90      0.87      7841\n",
      "\n",
      "   micro avg       0.88      0.88      0.88     17841\n",
      "   macro avg       0.88      0.88      0.88     17841\n",
      "weighted avg       0.88      0.88      0.88     17841\n",
      "\n",
      "acuracy= 0.8770248304467239\n"
     ]
    }
   ],
   "source": [
    "# With Default parameters and Return parameters\n",
    "from sklearn.neural_network import MLPClassifier\n",
    "from sklearn.model_selection import train_test_split\n",
    "import pandas as pd\n",
    "dataset = pd.read_csv(r'C:/Users/Samuel Roy/Introduction to Data Science Notebooks/Assignment/adult.data-3.csv')\n",
    "features = onehotlabels_DataSet3\n",
    "\n",
    "X =features\n",
    "Y =dataset['label']\n",
    "\n",
    "mlp = MLPClassifier() # set the method\n",
    "mlp.fit(X, Y)                    # training\n",
    "y_pred_neural_network=mlp.predict(X)   \n",
    "\n",
    "print(mlp)\n",
    "\n",
    "print(classification_report(Y,y_pred_neural_network))\n",
    "\n",
    "accuracy_=metric.accuracy_score(np.array(Y).flatten(), np.array(y_pred_neural_network).flatten(), normalize=True)\n",
    "print('acuracy=',accuracy_) "
   ]
  },
  {
   "cell_type": "markdown",
   "metadata": {},
   "source": [
    "7. (c.ii) Second, try to find the optimized number of hidden layers and nodes. (Start with default number and then at least go with one number above and one number below the default) \n"
   ]
  },
  {
   "cell_type": "code",
   "execution_count": 16,
   "metadata": {},
   "outputs": [
    {
     "name": "stdout",
     "output_type": "stream",
     "text": [
      "Neural Network with 1 hidden layer but with 50 nodes\n"
     ]
    },
    {
     "name": "stderr",
     "output_type": "stream",
     "text": [
      "C:\\Users\\Samuel Roy\\Anaconda3\\lib\\site-packages\\sklearn\\neural_network\\multilayer_perceptron.py:562: ConvergenceWarning: Stochastic Optimizer: Maximum iterations (200) reached and the optimization hasn't converged yet.\n",
      "  % self.max_iter, ConvergenceWarning)\n"
     ]
    },
    {
     "name": "stdout",
     "output_type": "stream",
     "text": [
      "MLPClassifier(activation='relu', alpha=0.0001, batch_size='auto', beta_1=0.9,\n",
      "       beta_2=0.999, early_stopping=False, epsilon=1e-08,\n",
      "       hidden_layer_sizes=(50,), learning_rate='constant',\n",
      "       learning_rate_init=0.001, max_iter=200, momentum=0.9,\n",
      "       n_iter_no_change=10, nesterovs_momentum=True, power_t=0.5,\n",
      "       random_state=None, shuffle=True, solver='adam', tol=0.0001,\n",
      "       validation_fraction=0.1, verbose=False, warm_start=False)\n",
      "acuracy= 0.8602656801748781\n",
      "              precision    recall  f1-score   support\n",
      "\n",
      "       <=50K       0.89      0.85      0.87     10000\n",
      "        >50K       0.82      0.87      0.85      7841\n",
      "\n",
      "   micro avg       0.86      0.86      0.86     17841\n",
      "   macro avg       0.86      0.86      0.86     17841\n",
      "weighted avg       0.86      0.86      0.86     17841\n",
      "\n",
      "\n",
      "\n",
      "Neural Network with 2 hidden layers with 300 and 400 nodes\n",
      "MLPClassifier(activation='relu', alpha=0.0001, batch_size='auto', beta_1=0.9,\n",
      "       beta_2=0.999, early_stopping=False, epsilon=1e-08,\n",
      "       hidden_layer_sizes=(300, 400), learning_rate='constant',\n",
      "       learning_rate_init=0.001, max_iter=200, momentum=0.9,\n",
      "       n_iter_no_change=10, nesterovs_momentum=True, power_t=0.5,\n",
      "       random_state=None, shuffle=True, solver='adam', tol=0.0001,\n",
      "       validation_fraction=0.1, verbose=False, warm_start=False)\n",
      "acuracy= 0.8960260075107898\n",
      "              precision    recall  f1-score   support\n",
      "\n",
      "       <=50K       0.93      0.88      0.90     10000\n",
      "        >50K       0.86      0.92      0.89      7841\n",
      "\n",
      "   micro avg       0.90      0.90      0.90     17841\n",
      "   macro avg       0.89      0.90      0.90     17841\n",
      "weighted avg       0.90      0.90      0.90     17841\n",
      "\n",
      "\n",
      "\n",
      "Neural Network with 4 hidden layer each have 200,500,500,200 nodes respectively.\n",
      "MLPClassifier(activation='relu', alpha=0.0001, batch_size='auto', beta_1=0.9,\n",
      "       beta_2=0.999, early_stopping=False, epsilon=1e-08,\n",
      "       hidden_layer_sizes=(200, 500, 500, 200), learning_rate='constant',\n",
      "       learning_rate_init=0.001, max_iter=200, momentum=0.9,\n",
      "       n_iter_no_change=10, nesterovs_momentum=True, power_t=0.5,\n",
      "       random_state=None, shuffle=True, solver='adam', tol=0.0001,\n",
      "       validation_fraction=0.1, verbose=False, warm_start=False)\n",
      "acuracy= 0.8944565887562357\n",
      "              precision    recall  f1-score   support\n",
      "\n",
      "       <=50K       0.93      0.88      0.90     10000\n",
      "        >50K       0.85      0.92      0.88      7841\n",
      "\n",
      "   micro avg       0.89      0.89      0.89     17841\n",
      "   macro avg       0.89      0.90      0.89     17841\n",
      "weighted avg       0.90      0.89      0.89     17841\n",
      "\n"
     ]
    }
   ],
   "source": [
    "import sklearn.metrics as metric\n",
    "## your code for lower number of hidden layers\n",
    "print('Neural Network with 1 hidden layer but with 50 nodes')\n",
    "mlp_lower_hidden_layer = MLPClassifier(hidden_layer_sizes=(50,)) \n",
    "mlp_lower_hidden_layer.fit(X, Y)                    # training\n",
    "y_pred_low=mlp_lower_hidden_layer.predict(X)   \n",
    "print(mlp_lower_hidden_layer)\n",
    "accuracy_lower_hidden_layer=metric.accuracy_score(np.array(Y).flatten(), np.array(y_pred_low).flatten(), normalize=True)\n",
    "print('acuracy=',accuracy_lower_hidden_layer) \n",
    "print(classification_report(Y,y_pred_low))\n",
    "print('\\n\\nNeural Network with 2 hidden layers with 300 and 400 nodes')\n",
    "\n",
    "# your code for higher number of hidden layers\n",
    "mlp_higer_hidden_layer = MLPClassifier(hidden_layer_sizes=(300,400)) \n",
    "mlp_higer_hidden_layer.fit(X, Y)                    # training\n",
    "y_pred_high=mlp_higer_hidden_layer.predict(X)   \n",
    "print(mlp_higer_hidden_layer)\n",
    "\n",
    "accuracy_higer_hidden_layer=metric.accuracy_score(np.array(Y).flatten(), np.array(y_pred_high).flatten(), normalize=True)\n",
    "print('acuracy=',accuracy_higer_hidden_layer) \n",
    "print(classification_report(Y,y_pred_high))\n",
    "\n",
    "\n",
    "# your code for testing number of neurons in each layer\n",
    "print('\\n\\nNeural Network with 4 hidden layer each have 200,500,500,200 nodes respectively.')\n",
    "mlp_higer_same_layer_diffrentnodes = MLPClassifier(hidden_layer_sizes=(200,500,500,200)) # here i am going for 5 hidden layers with diffrent nodes\n",
    "mlp_higer_same_layer_diffrentnodes.fit(X, Y)                    # training\n",
    "y_pred_same_layer_diffrentnodes=mlp_higer_same_layer_diffrentnodes.predict(X)   \n",
    "print(mlp_higer_same_layer_diffrentnodes)\n",
    "\n",
    "accuracy=metric.accuracy_score(np.array(Y).flatten(), np.array(y_pred_same_layer_diffrentnodes).flatten(), normalize=True)\n",
    "print('acuracy=',accuracy) \n",
    "print(classification_report(Y,y_pred_same_layer_diffrentnodes))"
   ]
  },
  {
   "cell_type": "markdown",
   "metadata": {},
   "source": [
    "7. (c.iii) Third, try to train your model with one linear activation function and one non linear activation function, name the functions and explain if there is any difference in your networks and why? (you can use evaluation metrics to show which activation function works better for this data set)\n"
   ]
  },
  {
   "cell_type": "code",
   "execution_count": 18,
   "metadata": {},
   "outputs": [
    {
     "name": "stdout",
     "output_type": "stream",
     "text": [
      "Metrics of linear activation function\n",
      "              precision    recall  f1-score   support\n",
      "\n",
      "       <=50K       0.86      0.78      0.82     10000\n",
      "        >50K       0.75      0.83      0.79      7841\n",
      "\n",
      "   micro avg       0.80      0.80      0.80     17841\n",
      "   macro avg       0.80      0.81      0.80     17841\n",
      "weighted avg       0.81      0.80      0.81     17841\n",
      "\n",
      "accuracy= 0.8043831623787904\n",
      "Metrics of Non- linear activation function\n",
      "              precision    recall  f1-score   support\n",
      "\n",
      "       <=50K       0.93      0.88      0.90     10000\n",
      "        >50K       0.86      0.91      0.88      7841\n",
      "\n",
      "   micro avg       0.90      0.90      0.90     17841\n",
      "   macro avg       0.89      0.90      0.89     17841\n",
      "weighted avg       0.90      0.90      0.90     17841\n",
      "\n",
      "accuracy= 0.8952973488033182\n"
     ]
    }
   ],
   "source": [
    "# using linear activation function  'identity' \n",
    "mlp_linear = MLPClassifier(hidden_layer_sizes=(200,100,300 ), activation='identity') # set the method\n",
    "mlp_linear.fit(X, Y)                    # training\n",
    "y_pred_linear=mlp_linear.predict(X)                      # prediction\n",
    "\n",
    "#using non-linear activation function  'logistic'\n",
    "mlp_non_linear = MLPClassifier(hidden_layer_sizes=(200,100,300 ), activation='tanh') # set the method\n",
    "mlp_non_linear.fit(X,Y)                    # training\n",
    "y_pred_nonlinear=mlp_non_linear.predict(X)                      # prediction\n",
    "\n",
    "\n",
    "#code for comparing two networks\n",
    "\n",
    "print(\"Metrics of linear activation function\")   \n",
    "print(classification_report(Y,y_pred_linear))\n",
    "accuracy=metric.accuracy_score(np.array(Y).flatten(), np.array(y_pred_linear).flatten(), normalize=True)\n",
    "print('accuracy=',accuracy) \n",
    "\n",
    "print(\"Metrics of Non- linear activation function\")\n",
    "print(classification_report(Y,y_pred_nonlinear))\n",
    "accuracy=metric.accuracy_score(np.array(Y).flatten(), np.array(y_pred_nonlinear).flatten(), normalize=True)\n",
    "print('accuracy=',accuracy)  \n",
    "\n"
   ]
  },
  {
   "cell_type": "markdown",
   "metadata": {},
   "source": [
    "Parameters: \n",
    "- Three hidden layers with : 200, 100, 300 Nodes\n",
    "- Activation function used are:Identity(Linear Activation Function) Tanh(Non-linear Activation Function)\n",
    "- accuracy of Linear Activation function=0.80438  \n",
    "- accuracy of Non-Linear Activation function=0.8952\n",
    "- F1-score of Linear Activation function=0.81,\n",
    "- F1-score of Non-Linear Activation function=0.90 "
   ]
  },
  {
   "cell_type": "markdown",
   "metadata": {},
   "source": [
    "Explanation:\n",
    "- Non-Linear Activation function performs slightly better than Linear Activation function.(accuracy of Linear Activation function= 0.80438 while accuracy of Non-Linear Activation function= 0.8952)\n",
    "- The Linear Activation function is a line or linear.Therefore, the output of the functions will not be confined between any range. So range(-infinity to +infinity). It doesn’t help with the complexity or various parameters of usual data that is fed to the neural networks.\n",
    "- The Nonlinear Activation Functions are the most used activation functions. Nonlinearity helps to makes easy for the model to generalize or adapt with variety of data and to differentiate between the output.The range of the tanh function is from (-1 to 1). tanh is also sigmoidal (s - shaped).The advantage is that the negative inputs will be mapped strongly negative and the zero inputs will be mapped near zero in the tanh graph."
   ]
  },
  {
   "cell_type": "markdown",
   "metadata": {},
   "source": [
    "7. (c.iv) Which model do you recommend to be used as your classifier and why? (with respect to the number of hidden layer and activation function (linear or nonlinear))"
   ]
  },
  {
   "cell_type": "markdown",
   "metadata": {},
   "source": [
    "Explanation: \n",
    "- The non-linear Activation function RELU(Rectified Linear Unit Activation Function)  gives the best metrics.When the number of layers are 2 and number of each nodes are 300 and 400 it gives the highest F-score of approx 0.90.\n",
    "- Non-Linear Activation makes it easy for the model to generalize or adapt with variety of data and to differentiate between the output."
   ]
  },
  {
   "cell_type": "markdown",
   "metadata": {},
   "source": [
    "## Analysing the quality of the prediction models"
   ]
  },
  {
   "cell_type": "markdown",
   "metadata": {},
   "source": [
    "### Question 8 (Evaluation metrics)"
   ]
  },
  {
   "cell_type": "markdown",
   "metadata": {},
   "source": [
    "8. (a) Calculate the following metrics for the model 7. (c, i) and the logistic regression with all the initial attributes in question 6 (c):"
   ]
  },
  {
   "cell_type": "markdown",
   "metadata": {},
   "source": [
    "- Confusion matrices on the training data"
   ]
  },
  {
   "cell_type": "code",
   "execution_count": 19,
   "metadata": {},
   "outputs": [
    {
     "name": "stdout",
     "output_type": "stream",
     "text": [
      "\n",
      "\n",
      "Confusion matrix for neural network model\n",
      "[[8551 1449]\n",
      " [ 745 7096]]\n",
      "\n",
      "\n",
      "Confusion matrix for logistic regression model\n",
      "[[8030 1970]\n",
      " [1516 6325]]\n"
     ]
    }
   ],
   "source": [
    "from sklearn.metrics import confusion_matrix\n",
    "\n",
    "# nural network with all the initial attributes confusion matrix\n",
    "confusion_for_neural_network = confusion_matrix(Y, y_pred_neural_network)\n",
    "print('\\n\\nConfusion matrix for neural network model')\n",
    "print(confusion_for_neural_network)\n",
    "\n",
    "\n",
    "# logistic regression with all the initial attributes confusion matrix\n",
    "confusion_for_logistic_regression_model = confusion_matrix(Y, y_pred3)\n",
    "print('\\n\\nConfusion matrix for logistic regression model')\n",
    "print(confusion_for_logistic_regression_model)"
   ]
  },
  {
   "cell_type": "markdown",
   "metadata": {},
   "source": [
    "- Confusion matrices on the test data"
   ]
  },
  {
   "cell_type": "code",
   "execution_count": 20,
   "metadata": {},
   "outputs": [
    {
     "name": "stderr",
     "output_type": "stream",
     "text": [
      "C:\\Users\\Samuel Roy\\Anaconda3\\lib\\site-packages\\sklearn\\neural_network\\multilayer_perceptron.py:562: ConvergenceWarning: Stochastic Optimizer: Maximum iterations (200) reached and the optimization hasn't converged yet.\n",
      "  % self.max_iter, ConvergenceWarning)\n"
     ]
    },
    {
     "name": "stdout",
     "output_type": "stream",
     "text": [
      "\n",
      "\n",
      "For Test Data\n",
      "Confusion matrix for Neural network\n",
      "[[11922   513]\n",
      " [ 1023  2823]]\n",
      "Confusion matrix for logistic regression\n",
      "[[11591   844]\n",
      " [ 1739  2107]]\n"
     ]
    }
   ],
   "source": [
    "from sklearn.neural_network import MLPClassifier\n",
    "from sklearn.model_selection import train_test_split\n",
    "from sklearn.preprocessing import LabelEncoder, OneHotEncoder\n",
    "from sklearn.metrics import confusion_matrix\n",
    "import pandas as pd\n",
    "\n",
    "TestFields = ['workclass','education-num','marital-status', 'occupation','relationship','race','sex','hours-per-week','native-country']\n",
    "\n",
    "train = pd.read_csv(r'C:/Users/Samuel Roy/Introduction to Data Science Notebooks/Assignment/adult.test-3.csv',skipinitialspace=True,usecols=TestFields)\n",
    "features = pd.DataFrame(train)\n",
    "onehotlabels_train = makeOneHotTable(features)\n",
    "\n",
    "X_testDataSet = onehotlabels_train\n",
    "\n",
    "target_feature_field=['label']\n",
    "target_feature = pd.read_csv(r'C:/Users/Samuel Roy/Introduction to Data Science Notebooks/Assignment/adult.test-3.csv',skipinitialspace=True,usecols=target_feature_field)\n",
    "Y_testDataSet =  target_feature.iloc[:,-1]\n",
    "\n",
    "\n",
    "# Neural network model \n",
    "nn = MLPClassifier()\n",
    "nn.fit(X_testDataSet,Y_testDataSet.ravel())                              #fitting\n",
    "y_test_pred_neural_network=nn.predict(X_testDataSet)                      # prediction\n",
    "\n",
    "# confusion matrix for Neural network\n",
    "confusion_for_train_model = confusion_matrix(Y_testDataSet, y_test_pred_neural_network)\n",
    "\n",
    "print('\\n\\nFor Test Data')\n",
    "print('Confusion matrix for Neural network')\n",
    "print(confusion_for_train_model)\n",
    "\n",
    "       \n",
    "# Logistic Regrassion Model \n",
    "classifier_logisticReg = LogisticRegression( solver = 'liblinear', multi_class = 'ovr') \n",
    "classifier_logisticReg.fit(X_testDataSet, Y_testDataSet.ravel())\n",
    "y_test_pred_logistic_regression = classifier_logisticReg.predict(X_testDataSet)\n",
    "\n",
    "# confusion matrix for logistic regression\n",
    "confusion_for_train_model_Logistic_reg = confusion_matrix(Y_testDataSet, y_test_pred_logistic_regression)\n",
    "print('Confusion matrix for logistic regression')\n",
    "print(confusion_for_train_model_Logistic_reg)\n"
   ]
  },
  {
   "cell_type": "markdown",
   "metadata": {},
   "source": [
    "- Precision, recall and F1-scores on the test data"
   ]
  },
  {
   "cell_type": "code",
   "execution_count": 22,
   "metadata": {},
   "outputs": [
    {
     "name": "stdout",
     "output_type": "stream",
     "text": [
      "\n",
      "For Neural Network\n",
      "              precision    recall  f1-score   support\n",
      "\n",
      "       <=50K       0.92      0.96      0.94     12435\n",
      "        >50K       0.85      0.73      0.79      3846\n",
      "\n",
      "   micro avg       0.91      0.91      0.91     16281\n",
      "   macro avg       0.88      0.85      0.86     16281\n",
      "weighted avg       0.90      0.91      0.90     16281\n",
      "\n",
      "\n",
      "\n",
      "For Logistic regression\n",
      "              precision    recall  f1-score   support\n",
      "\n",
      "       <=50K       0.87      0.93      0.90     12435\n",
      "        >50K       0.71      0.55      0.62      3846\n",
      "\n",
      "   micro avg       0.84      0.84      0.84     16281\n",
      "   macro avg       0.79      0.74      0.76     16281\n",
      "weighted avg       0.83      0.84      0.83     16281\n",
      "\n"
     ]
    }
   ],
   "source": [
    "#For neural Network\n",
    "print('\\nFor Neural Network')\n",
    "\n",
    "print(classification_report(Y_testDataSet, y_test_pred_neural_network))\n",
    "#For logistic Regrassion\n",
    "print('\\n\\nFor Logistic regression')\n",
    "\n",
    "print(classification_report(Y_testDataSet, y_test_pred_logistic_regression))\n"
   ]
  },
  {
   "cell_type": "markdown",
   "metadata": {},
   "source": [
    "- Accuracy scores on training and test data"
   ]
  },
  {
   "cell_type": "code",
   "execution_count": 23,
   "metadata": {},
   "outputs": [
    {
     "name": "stdout",
     "output_type": "stream",
     "text": [
      "Tranning data\n",
      "           Neural Network accuracyScore            = 0.8770248304467239\n",
      "           Logistic regression model accuracyScore = 0.8046073650580124\n",
      "Test data\n",
      "           Neural Network accuracyScore            = 0.9056569006817763\n",
      "           Logistic regression model accuracyScore = 0.8413488114980652\n"
     ]
    }
   ],
   "source": [
    "# Traning data \n",
    "print('Tranning data')\n",
    "accuracy = metric.accuracy_score(np.array(Y).flatten(), np.array(y_pred_neural_network).flatten(), normalize=True)\n",
    "print('           Neural Network accuracyScore            =',accuracy)  \n",
    "\n",
    "\n",
    "accuracy = metric.accuracy_score(np.array(Y).flatten(), np.array(y_pred3).flatten(), normalize=True)\n",
    "print('           Logistic regression model accuracyScore =',accuracy)  \n",
    "# Test data \n",
    "print('Test data')\n",
    "accuracy = metric.accuracy_score(np.array(Y_testDataSet).flatten(), np.array(y_test_pred_neural_network).flatten(), normalize=True)\n",
    "print('           Neural Network accuracyScore            =',accuracy)  \n",
    "\n",
    "\n",
    "accuracy = metric.accuracy_score(np.array(Y_testDataSet).flatten(), np.array(y_test_pred_logistic_regression).flatten(), normalize=True)\n",
    "print('           Logistic regression model accuracyScore =',accuracy)  "
   ]
  },
  {
   "cell_type": "markdown",
   "metadata": {},
   "source": [
    "In order to turn numbers into insights, please comment on your findings. Motivate the answers to the following questions using the metrics and the findings in the questions 1 through 7."
   ]
  },
  {
   "cell_type": "markdown",
   "metadata": {},
   "source": [
    "8. (b) What is, in your opinion, the best model? Motivate your answer with the correct performance metrics."
   ]
  },
  {
   "cell_type": "markdown",
   "metadata": {},
   "source": [
    "Explanation: \n",
    "- The best model is Neural Network because the F1 score and Accuracy was 0.90 for 3 hidden layer with 300,400 nodes respectively.\n",
    "- Throughout all models created by neural networks created by Neural Network the F1-scores and accuracy were higher than other methods. "
   ]
  },
  {
   "cell_type": "markdown",
   "metadata": {},
   "source": [
    "8. (c) Does any model suffer from underfitting or overfitting? Motivate your answer with the correct performance metrics."
   ]
  },
  {
   "cell_type": "markdown",
   "metadata": {},
   "source": [
    "Explanation:\n",
    "- From the Accuracy Score and F1-score of Neural Network it is Underfitting because the model is performing better accuracy and f1-score than with test data. But again difference between these values indicate that it is (only 0.03) not too much underfitting.\n",
    "- The model of Logistic regression too is suffering from underfitting . Comparing the Training data set accuracy and Testing dataset accuracy, it has gone up from 0.80 to 0.84. Such high accuracy in the new test data set points to underfitting."
   ]
  },
  {
   "cell_type": "markdown",
   "metadata": {},
   "source": [
    "8. (d) In the hypothesis that a separate validation set is not available, how would you proceed in evaluating a model? Refer to the evaluation techniques seen in the lectures."
   ]
  },
  {
   "cell_type": "markdown",
   "metadata": {},
   "source": [
    "Explanation:\n",
    "- K-fold Cross Validation: Taking the whole dataset and dividing it into K data sets and leave out a part for testing.\n",
    "    - When k-fold cross validation is used, the available data is divided into k equal-sized folds (or partitions), and k separate evaluation experiments are performed. In the first evaluation experiment, the data in the 1st fold is used as the test set, and the data in the remaining k −1 folds is used as the training set. A model is trained using the training set, and the relevant performance measures on the test set are recorded.This process continues until k evaluation experiments have been conducted and k sets of performance measures have been recorded.Finally, the k sets of performance measures are aggregated to give one overall set of performance measures. Although k can be set to any value, 10-fold cross validation is probably the most common variant used in practice.\n",
    "- Jacknifing: K-fold cross validation with test data being single instances. Used when less data is available.\n",
    "    - It is an extreme form of k-fold cross validation in which the number of folds is the same as the number of training instances. This means that each fold of the test set contains only one instance, and the training set contains the remainder of the data. Leave-one-out cross validation is useful when the amount of data available is too small to allow big enough training sets in a k-fold cross validation.\n",
    "- Bootstrapping: m randomly selected instances are selected as test data.\n",
    "    - Bootstrapping approaches are preferred over cross validation approaches in contexts with very small datasets (approximately fewer than 300 instances). Similar to kfold cross validation, the 0 bootstrap iteratively performs multiple evaluation experiments using sightly different training and test sets each time to evaluate the expected performance of a model. To generate these partitions for an iteration of the 0 bootstrap, a random selection of m instances is taken from the full dataset to generate a test set, and the remaining instances are used as the training set. Using the training set to train a model and the test set to evaluate it, a performance measure (or measures) is calculated for this iteration. "
   ]
  }
 ],
 "metadata": {
  "kernelspec": {
   "display_name": "Python 3",
   "language": "python",
   "name": "python3"
  },
  "language_info": {
   "codemirror_mode": {
    "name": "ipython",
    "version": 3
   },
   "file_extension": ".py",
   "mimetype": "text/x-python",
   "name": "python",
   "nbconvert_exporter": "python",
   "pygments_lexer": "ipython3",
   "version": "3.6.4"
  }
 },
 "nbformat": 4,
 "nbformat_minor": 2
}
